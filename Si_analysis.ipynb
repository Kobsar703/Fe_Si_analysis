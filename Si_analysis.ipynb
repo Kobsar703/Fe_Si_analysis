{
 "cells": [
  {
   "cell_type": "code",
   "execution_count": 1,
   "id": "9ad8662c",
   "metadata": {},
   "outputs": [],
   "source": [
    "import pandas as pd\n",
    "import numpy as np\n",
    "import matplotlib.pyplot as plt\n",
    "import seaborn as sns"
   ]
  },
  {
   "cell_type": "code",
   "execution_count": 2,
   "id": "d046ef18",
   "metadata": {},
   "outputs": [],
   "source": [
    "data = pd.read_csv('data/Abun_SiII_S1.csv')\n",
    "data.head()"
   ]
  },
  {
   "cell_type": "code",
   "execution_count": 3,
   "id": "b23e6489",
   "metadata": {},
   "outputs": [],
   "source": [
    "data.describe()"
   ]
  },
  {
   "cell_type": "code",
   "execution_count": 4,
   "id": "8253a450",
   "metadata": {},
   "outputs": [],
   "source": [
    "mag = pd.read_csv(\"data/Abun_SiII_S1_magnetic.csv\")\n",
    "mag.head()"
   ]
  },
  {
   "cell_type": "code",
   "execution_count": 5,
   "id": "894e6490",
   "metadata": {},
   "outputs": [],
   "source": [
    "mag.describe()"
   ]
  },
  {
   "cell_type": "code",
   "execution_count": 6,
   "id": "6310a786",
   "metadata": {},
   "outputs": [],
   "source": [
    "merged_df = pd.merge(data, mag, on=[\"Element\", \"Ion\", \"Lambda\"], suffixes=('', '_mag'))\n",
    "merged_df.head()"
   ]
  },
  {
   "cell_type": "code",
   "execution_count": 7,
   "id": "4e8510ab",
   "metadata": {},
   "outputs": [],
   "source": [
    "merged_df.info()"
   ]
  },
  {
   "cell_type": "code",
   "execution_count": 8,
   "id": "c5d1e7b1",
   "metadata": {},
   "outputs": [],
   "source": [
    "merged_df[[\"Chi_sq\", \"Chi_sq_mag\"]].describe()"
   ]
  },
  {
   "cell_type": "code",
   "execution_count": 9,
   "id": "5e46ffa8",
   "metadata": {},
   "outputs": [],
   "source": [
    "box = sns.boxplot(x=merged_df[\"Chi_sq_mag\"], showfliers=True)\n",
    "g = plt.gca()\n",
    "plt.xlabel('Chi sq magnetic');"
   ]
  },
  {
   "cell_type": "code",
   "execution_count": 10,
   "id": "7a02e87e",
   "metadata": {},
   "outputs": [],
   "source": [
    "merged_df[merged_df[\"Chi_sq_mag\"]>25]"
   ]
  },
  {
   "cell_type": "code",
   "execution_count": 11,
   "id": "b17a82ed",
   "metadata": {},
   "outputs": [],
   "source": [
    "Si_data = merged_df[merged_df[\"Chi_sq_mag\"]<25]"
   ]
  },
  {
   "cell_type": "code",
   "execution_count": 12,
   "id": "db4bf3cf",
   "metadata": {},
   "outputs": [],
   "source": [
    "plt.figure(figsize=(10, 6))\n",
    "#Plot without magnetic field calculations\n",
    "plt.plot(Si_data[Si_data[\"Ion\"]==0][\"Tau5000\"], Si_data[Si_data[\"Ion\"]==0][\"Abun\"], \"o\", c=\"red\", label=\"0 Ion 0 magn\")\n",
    "plt.plot(Si_data[Si_data[\"Ion\"]==1][\"Tau5000\"], Si_data[Si_data[\"Ion\"]==1][\"Abun\"], \"x\", c=\"red\", label=\"1 Ion 0 magn\")\n",
    "#Plot with magnetic field calculations\n",
    "plt.plot(Si_data[Si_data[\"Ion\"]==0][\"Tau5000_mag\"], Si_data[Si_data[\"Ion\"]==0][\"Abun_mag\"], \"o\", c=\"blue\", label=\"0 Ion 1 magn\")\n",
    "plt.plot(Si_data[Si_data[\"Ion\"]==1][\"Tau5000_mag\"], Si_data[Si_data[\"Ion\"]==1][\"Abun_mag\"], \"x\", c=\"blue\", label=\"1 Ion 1 magn\")\n",
    "#Add Solar abundance to the graph\n",
    "plt.axhline(y=-4.49, linestyle='--', color='orange', label=r\"$N_\\odot=-4.49$\")\n",
    "plt.xlabel(r\"${\\tau}_{5000}$\")\n",
    "plt.ylabel(\"log($N_{Si}/N_{total}$)\")\n",
    "plt.legend()\n",
    "plt.show()\n"
   ]
  },
  {
   "cell_type": "code",
   "execution_count": 13,
   "id": "7c1e16b3",
   "metadata": {},
   "outputs": [],
   "source": [
    "# Scatter plot\n",
    "plt.figure(figsize=(10, 6))\n",
    "#Plot without magnetic field calculations\n",
    "plt.plot(Si_data[Si_data[\"Ion\"]==0][\"Tau5000\"], Si_data[Si_data[\"Ion\"]==0][\"Abun\"], \"o\", c=\"red\", label=\"0 Ion 0 magn\")\n",
    "plt.plot(Si_data[Si_data[\"Ion\"]==1][\"Tau5000\"], Si_data[Si_data[\"Ion\"]==1][\"Abun\"], \"x\", c=\"red\", label=\"1 Ion 0 magn\")\n",
    "#Plot with magnetic field calculations\n",
    "plt.plot(Si_data[Si_data[\"Ion\"]==0][\"Tau5000_mag\"], Si_data[Si_data[\"Ion\"]==0][\"Abun_mag\"], \"o\", c=\"blue\", label=\"0 Ion 1 magn\")\n",
    "plt.plot(Si_data[Si_data[\"Ion\"]==1][\"Tau5000_mag\"], Si_data[Si_data[\"Ion\"]==1][\"Abun_mag\"], \"x\", c=\"blue\", label=\"1 Ion 1 magn\")\n",
    "\n",
    "# Linear approximation for subset\n",
    "x_mag = Si_data[\"Tau5000_mag\"]\n",
    "y_mag = Si_data[\"Abun_mag\"]\n",
    "coefficients_mag = np.polyfit(x_mag, y_mag, deg=1)\n",
    "x_approx_mag = np.linspace(x_mag.min(), x_mag.max(), 100)\n",
    "y_approx_mag = np.polyval(coefficients_mag, x_approx_mag)\n",
    "plt.plot(x_approx_mag, y_approx_mag, \"--\", c=\"blue\", label=f\"y={coefficients_mag[0]:.2f}x+{coefficients_mag[1]:.2f}\")\n",
    "\n",
    "x = Si_data[\"Tau5000\"]\n",
    "y = Si_data[\"Abun\"]\n",
    "coefficients = np.polyfit(x, y, deg=1)\n",
    "x_approx = np.linspace(x.min(), x.max(), 100)\n",
    "y_approx = np.polyval(coefficients, x_approx)\n",
    "plt.plot(x_approx, y_approx, \"--\", c=\"red\", label=f\"y={coefficients[0]:.2f}x+{coefficients[1]:.2f}\")\n",
    "\n",
    "\n",
    "#Add Solar abundance to the graph\n",
    "plt.axhline(y=-4.49, linestyle='--', color='orange', label=r\"$N_\\odot=-4.49$\")\n",
    "\n",
    "# Axis labels, legend and show\n",
    "plt.xlabel(r\"${\\tau}_{5000}$\")\n",
    "plt.ylabel(\"log($N_{Si}/N_{total}$)\")\n",
    "plt.legend()\n",
    "plt.show()\n"
   ]
  },
  {
   "cell_type": "code",
   "execution_count": 14,
   "id": "3461204e",
   "metadata": {},
   "outputs": [],
   "source": [
    "Si_data[Si_data[\"Tau5000\"]>-1.5]"
   ]
  },
  {
   "cell_type": "code",
   "execution_count": null,
   "id": "2b08cd40",
   "metadata": {},
   "outputs": [],
   "source": []
  }
 ],
 "metadata": {
  "kernelspec": {
   "display_name": "Python 3 (ipykernel)",
   "language": "python",
   "name": "python3"
  },
  "language_info": {
   "codemirror_mode": {
    "name": "ipython",
    "version": 3
   },
   "file_extension": ".py",
   "mimetype": "text/x-python",
   "name": "python",
   "nbconvert_exporter": "python",
   "pygments_lexer": "ipython3",
   "version": "3.10.9"
  }
 },
 "nbformat": 4,
 "nbformat_minor": 5
}
